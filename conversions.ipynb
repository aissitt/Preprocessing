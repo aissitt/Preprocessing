{
 "cells": [
  {
   "cell_type": "markdown",
   "id": "31a58720",
   "metadata": {},
   "source": [
    "# Setup Paths"
   ]
  },
  {
   "cell_type": "code",
   "execution_count": null,
   "id": "f776cccd",
   "metadata": {},
   "outputs": [],
   "source": [
    "import os\n",
    "import re"
   ]
  },
  {
   "cell_type": "code",
   "execution_count": null,
   "id": "e95767d4",
   "metadata": {},
   "outputs": [],
   "source": [
    "from PIL import Image"
   ]
  },
  {
   "cell_type": "code",
   "execution_count": null,
   "id": "3acc72a8",
   "metadata": {},
   "outputs": [],
   "source": [
    "path = \"Enter the path to the model directory: \"\n",
    "path = \"C:\\\\Users\\\\aviss\\\\Documents\\\\AdvDSP\\\\FindingNemo\\\\Nemo Model\""
   ]
  },
  {
   "cell_type": "code",
   "execution_count": null,
   "id": "3639091c",
   "metadata": {},
   "outputs": [],
   "source": [
    "# yolo_class_list_file = os.path.join(path, \"Enter the path to the file that has the yolo classes (typically classes.txt): \")\n",
    "\n",
    "folder_holding_all_annotations = os.path.join(path,\"uot32\",\"dataset\")\n",
    "\n",
    "folder_holding_yolo_annotations = os.path.join(path,\"uot32\",\"dataset\",\"SeaTurtle2\")\n",
    "file_holding_yolo_annotations = os.path.join(path,\"uot32\",\"dataset\",\"SeaTurtle2\", \"groundtruth_rect.txt\")\n",
    "yolo_class_list_file = os.path.join(path,\"uot32\",\"classes.txt\")"
   ]
  },
  {
   "cell_type": "markdown",
   "id": "6cbd8b71",
   "metadata": {},
   "source": [
    "# Get List of Classes"
   ]
  },
  {
   "cell_type": "code",
   "execution_count": null,
   "id": "1e4412c6",
   "metadata": {},
   "outputs": [],
   "source": [
    "# Get a list of all the classes used in the yolo format\n",
    "with open(yolo_class_list_file) as f:\n",
    "    yolo_classes = f.readlines()\n",
    "array_of_yolo_classes = [x.strip() for x in yolo_classes]"
   ]
  },
  {
   "cell_type": "code",
   "execution_count": null,
   "id": "a6107132",
   "metadata": {},
   "outputs": [],
   "source": [
    "array_of_yolo_classes"
   ]
  },
  {
   "cell_type": "code",
   "execution_count": null,
   "id": "9f269486",
   "metadata": {},
   "outputs": [],
   "source": [
    "# Description of Yolo Format values\n",
    "# 15 0.448743 0.529142 0.051587 0.021081\n",
    "# class_number x_yolo y_yolo yolo_width yolo_height\n",
    "\n",
    "def is_number(n):\n",
    "  try:\n",
    "    float(n)\n",
    "    return True\n",
    "  except ValueError:\n",
    "    return False"
   ]
  },
  {
   "cell_type": "markdown",
   "id": "caf83ae0",
   "metadata": {},
   "source": [
    "# Convert Data"
   ]
  },
  {
   "cell_type": "code",
   "execution_count": null,
   "id": "da1a626c",
   "metadata": {},
   "outputs": [],
   "source": [
    "# gets the names of all subfolders under the dataset directory \n",
    "classes = [f.name for f in os.scandir(folder_holding_all_annotations) if f.is_dir()]\n",
    "\n",
    "print(\"classes\")\n",
    "print(classes)\n",
    "\n",
    "for c in classes:\n",
    "  print(c) \n",
    "  counter = 1\n",
    "\n",
    "  file_holding_yolo_annotations = os.path.join(folder_holding_all_annotations, c, \"groundtruth_rect.txt\")\n",
    "\n",
    "  the_file = open(file_holding_yolo_annotations, 'r')\n",
    "  all_lines = the_file.readlines()\n",
    "\n",
    "  xml_path = os.path.join(folder_holding_all_annotations, c, 'XML')\n",
    "  if not os.path.exists(xml_path):\n",
    "    # If an XML folder does not already exist, make one\n",
    "    os.makedirs(xml_path)\n",
    "  else: \n",
    "    print(\"XML folder exists\")\n",
    "\n",
    "  for line in all_lines: \n",
    "    image_name = str(counter) + \".jpg\"\n",
    "    image_path = os.path.join(folder_holding_all_annotations, c, \"img\", image_name)\n",
    "\n",
    "    counter += 1\n",
    "\n",
    "    print(\"Converting \" + c + str(counter))\n",
    "    \n",
    "    # If the image name is the same as the yolo filename\n",
    "    # then we did NOT find an image that matches, and we will skip this code block\n",
    "    orig_img = Image.open(image_path) # open the image\n",
    "    image_width = orig_img.width\n",
    "    image_height = orig_img.height\n",
    "\n",
    "    # Start the XML file\n",
    "    with open(image_path.replace('jpg', 'xml').replace('img', 'XML'), 'w') as f:\n",
    "      f.write('<annotation>\\n')\n",
    "      f.write('\\t<folder>XML</folder>\\n')\n",
    "      f.write('\\t<filename>' + image_name + '</filename>\\n')\n",
    "      f.write('\\t<path>' + os.getcwd() + os.sep + image_name + '</path>\\n')\n",
    "      f.write('\\t<source>\\n')\n",
    "      f.write('\\t\\t<database>Unknown</database>\\n')\n",
    "      f.write('\\t</source>\\n')\n",
    "      f.write('\\t<size>\\n')\n",
    "      f.write('\\t\\t<width>' + str(image_width) + '</width>\\n')\n",
    "      f.write('\\t\\t<height>' + str(image_height) + '</height>\\n')\n",
    "      f.write('\\t\\t<depth>3</depth>\\n') # assuming a 3 channel color image (RGB)\n",
    "      f.write('\\t</size>\\n')\n",
    "      f.write('\\t<segmented>0</segmented>\\n')\n",
    "    \n",
    "      # regex to find the numbers in each line of the text file\n",
    "      yolo_array = re.split(\"\\t\", line.rstrip()) # remove any extra space from the end of the line\n",
    "\n",
    "      # here the class is taken from the name of the folder\n",
    "      yolo_array_contains_only_digits = True\n",
    "\n",
    "      # make sure the array has the correct number of items\n",
    "      if len(yolo_array) == 4:\n",
    "        for each_value in yolo_array:\n",
    "          # If a value is not a number, then the format is not correct, return false\n",
    "          if not is_number(each_value):\n",
    "            yolo_array_contains_only_digits = False\n",
    "        \n",
    "        if yolo_array_contains_only_digits:\n",
    "          # assign the variables\n",
    "          #class_number = int(yolo_array[0])\n",
    "          #object_name = array_of_yolo_classes[class_number]\n",
    "          x_min = float(yolo_array[0])\n",
    "          y_min = float(yolo_array[1])\n",
    "          width = float(yolo_array[2])\n",
    "          height = float(yolo_array[3])\n",
    "\n",
    "          # Convert Yolo Format to Pascal VOC format\n",
    "          box_width = width\n",
    "          box_height = height\n",
    "\n",
    "          x_max = x_min + width \n",
    "          y_max = y_min + height \n",
    "\n",
    "          # write each object to the file\n",
    "          f.write('\\t<object>\\n')\n",
    "          f.write('\\t\\t<name>' + c + '</name>\\n')\n",
    "          f.write('\\t\\t<pose>Unspecified</pose>\\n')\n",
    "          f.write('\\t\\t<truncated>0</truncated>\\n')\n",
    "          f.write('\\t\\t<difficult>0</difficult>\\n')\n",
    "          f.write('\\t\\t<bndbox>\\n')\n",
    "          f.write('\\t\\t\\t<xmin>' + str(x_min) + '</xmin>\\n')\n",
    "          f.write('\\t\\t\\t<ymin>' + str(y_min) + '</ymin>\\n')\n",
    "          f.write('\\t\\t\\t<xmax>' + str(x_max) + '</xmax>\\n')\n",
    "          f.write('\\t\\t\\t<ymax>' + str(y_max) + '</ymax>\\n')\n",
    "          f.write('\\t\\t</bndbox>\\n')\n",
    "          f.write('\\t</object>\\n')\n",
    "\n",
    "      # Close the annotation tag once all the objects have been written to the file\n",
    "      f.write('</annotation>\\n')\n",
    "      f.close() # Close the file"
   ]
  }
 ],
 "metadata": {
  "kernelspec": {
   "display_name": "Python 3.10.4 ('Nemo')",
   "language": "python",
   "name": "python3"
  },
  "language_info": {
   "codemirror_mode": {
    "name": "ipython",
    "version": 3
   },
   "file_extension": ".py",
   "mimetype": "text/x-python",
   "name": "python",
   "nbconvert_exporter": "python",
   "pygments_lexer": "ipython3",
   "version": "3.10.4"
  },
  "vscode": {
   "interpreter": {
    "hash": "27f0e5e1df9da351ef055c5ef3783a7898ea755580039e2618dc361c58d69156"
   }
  }
 },
 "nbformat": 4,
 "nbformat_minor": 5
}
