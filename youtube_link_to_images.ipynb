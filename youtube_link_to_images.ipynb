{
 "cells": [
  {
   "cell_type": "code",
   "execution_count": null,
   "metadata": {},
   "outputs": [],
   "source": [
    "!pip install ffmpeg\n",
    "!pip install youtube-dl"
   ]
  },
  {
   "cell_type": "code",
   "execution_count": null,
   "metadata": {},
   "outputs": [],
   "source": [
    "path_to_input_video = \"C:\\\\Users\\\\--\\\\Documents\\\\uot16\\\\test_set\\\\test.mp4\"\n",
    "youtube_video_url = \"https://www.youtube.com/watch?v=OvyRvhoqDpc\""
   ]
  },
  {
   "cell_type": "code",
   "execution_count": null,
   "metadata": {},
   "outputs": [],
   "source": [
    "!youtube-dl -f best -f mp4 --verbose -o $path_to_input_video $youtube_video_url "
   ]
  }
 ],
 "metadata": {
  "kernelspec": {
   "display_name": "Python 3.10.4 ('uot16V2')",
   "language": "python",
   "name": "python3"
  },
  "language_info": {
   "codemirror_mode": {
    "name": "ipython",
    "version": 3
   },
   "file_extension": ".py",
   "mimetype": "text/x-python",
   "name": "python",
   "nbconvert_exporter": "python",
   "pygments_lexer": "ipython3",
   "version": "3.10.4"
  },
  "orig_nbformat": 4,
  "vscode": {
   "interpreter": {
    "hash": "17f86ed8a73a1487ea176e03f3b5462625c0fee6d580610da490816e94fded21"
   }
  }
 },
 "nbformat": 4,
 "nbformat_minor": 2
}
