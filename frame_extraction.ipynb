{
 "cells": [
  {
   "cell_type": "markdown",
   "metadata": {},
   "source": [
    "# Setup Paths"
   ]
  },
  {
   "cell_type": "code",
   "execution_count": null,
   "metadata": {},
   "outputs": [],
   "source": [
    "import cv2\n",
    "import os"
   ]
  },
  {
   "cell_type": "code",
   "execution_count": null,
   "metadata": {},
   "outputs": [],
   "source": [
    "# path = \"Enter the path to the model directory: \"\n",
    "path = \"C:\\\\Users\\\\aviss\\\\Documents\\\\uot16\"\n",
    "count = 0"
   ]
  },
  {
   "cell_type": "code",
   "execution_count": null,
   "metadata": {},
   "outputs": [],
   "source": [
    "# folder_holding_mp4 = os.path.join(path, \"Enter path to mp4 files: \")\n",
    "# folder_holding_all = os.path.join(path, \"uot100\", \"dataset\")\n",
    "mp4_file = os.path.join(path, \"output_video.mp4\")"
   ]
  },
  {
   "cell_type": "markdown",
   "metadata": {},
   "source": [
    "# Extract Frames"
   ]
  },
  {
   "cell_type": "code",
   "execution_count": null,
   "metadata": {},
   "outputs": [],
   "source": [
    "img_path = os.path.join(path, \"img\")\n",
    "\n",
    "if not os.path.exists(img_path):\n",
    "        # If an img file doesn't already exist, create one\n",
    "        os.makedirs(img_path)\n",
    "\n",
    "        vidcap = cv2.VideoCapture(mp4_file)\n",
    "\n",
    "        success,image = vidcap.read()\n",
    "        count = 1\n",
    "\n",
    "        while success:\n",
    "            os.chdir(img_path)\n",
    "            # save frame as JPEG file  \n",
    "            cv2.imwrite(\"%05d.jpg\" % count, image)         \n",
    "            success,image = vidcap.read()\n",
    "            print('Read a new frame: ', success)\n",
    "            count += 1\n",
    "else:\n",
    "        print(\"img folder exists\")"
   ]
  },
  {
   "cell_type": "code",
   "execution_count": null,
   "metadata": {},
   "outputs": [],
   "source": [
    "# gets the names of all subfolders under the dataset directory \n",
    "classes = [f.name for f in os.scandir(folder_holding_all) if f.is_dir()]\n",
    "\n",
    "print(classes)\n",
    "\n",
    "for c in classes:\n",
    "    print(c)\n",
    "\n",
    "    img_path = os.path.join(folder_holding_all, c , \"img\")\n",
    "    if not os.path.exists(img_path):\n",
    "        # If an img file doesn't already exist, create one\n",
    "        os.makedirs(img_path)\n",
    "\n",
    "        # get mp4 file\n",
    "        folder_holding_mp4 = os.path.join(folder_holding_all, c, c+\".mp4\")\n",
    "        print(folder_holding_mp4)\n",
    "\n",
    "        vidcap = cv2.VideoCapture(folder_holding_mp4)\n",
    "\n",
    "        success,image = vidcap.read()\n",
    "        count = 1\n",
    "\n",
    "        while success:\n",
    "            os.chdir(img_path)\n",
    "            # save frame as JPEG file  \n",
    "            cv2.imwrite(\"%d.jpg\" % count, image)         \n",
    "            success,image = vidcap.read()\n",
    "            print('Read a new frame: ', success)\n",
    "            count += 1\n",
    "    else:\n",
    "        print(\"img folder exists\")"
   ]
  }
 ],
 "metadata": {
  "kernelspec": {
   "display_name": "Python 3.10.4 ('uot16')",
   "language": "python",
   "name": "python3"
  },
  "language_info": {
   "codemirror_mode": {
    "name": "ipython",
    "version": 3
   },
   "file_extension": ".py",
   "mimetype": "text/x-python",
   "name": "python",
   "nbconvert_exporter": "python",
   "pygments_lexer": "ipython3",
   "version": "3.10.4"
  },
  "orig_nbformat": 4,
  "vscode": {
   "interpreter": {
    "hash": "1b4c1a8737a9418b1a4df2783e8937fd4851112299701eacc05761e9b1a148cc"
   }
  }
 },
 "nbformat": 4,
 "nbformat_minor": 2
}
