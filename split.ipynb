{
 "cells": [
  {
   "cell_type": "markdown",
   "metadata": {},
   "source": [
    "# Setup Paths"
   ]
  },
  {
   "cell_type": "code",
   "execution_count": null,
   "metadata": {},
   "outputs": [],
   "source": [
    "import splitfolders\n",
    "import os\n",
    "import shutil"
   ]
  },
  {
   "cell_type": "code",
   "execution_count": null,
   "metadata": {},
   "outputs": [],
   "source": [
    "# path = \"Enter the path to the model directory: \"\n",
    "# path = \"C:\\\\Users\\\\--\\\\Documents\\\\uot16\"\n",
    "path = \"MODEL DIR PATH\"\n",
    "folder_holding_dataset = os.path.join(path, \"preprocessing\", \"dataset\")\n",
    "output_folder = os.path.join(path, \"preprocessing\", \"split\")\n",
    "input_folder = os.path.join(path, \"preprocessing\", \"dataset\")"
   ]
  },
  {
   "cell_type": "markdown",
   "metadata": {},
   "source": [
    "# Split Folders"
   ]
  },
  {
   "cell_type": "code",
   "execution_count": null,
   "metadata": {},
   "outputs": [],
   "source": [
    "# Split with a ratio\n",
    "# Group prefix is 2 to capture .jpg and .xml for each\n",
    "splitfolders.ratio(input_folder, output=output_folder,\n",
    "    seed=1337, ratio=(.8, .1, .1), group_prefix=2, move=False)"
   ]
  },
  {
   "cell_type": "markdown",
   "metadata": {},
   "source": [
    "# Move Files out of Class Folders"
   ]
  },
  {
   "cell_type": "code",
   "execution_count": null,
   "metadata": {},
   "outputs": [],
   "source": [
    "split = os.path.join(path, \"preprocessing\", \"split\")\n",
    "\n",
    "# gets the names of all subfolders under the split directory (test/train/val)\n",
    "subs = [j.name for j in os.scandir(split) if j.is_dir()]\n",
    "\n",
    "\n",
    "for s in subs:\n",
    "  split_sub = os.path.join(split, s)\n",
    "  # gets the names of all subfolders under the dataset directory \n",
    "  classes = [f.name for f in os.scandir(split_sub) if f.is_dir()]\n",
    "  for c in classes:\n",
    "    print(c) \n",
    "\n",
    "    move_output_folder = os.path.join(split, s)\n",
    "    move_input_folder = os.path.join(split, s, c)\n",
    "    files = os.listdir(move_input_folder)\n",
    "\n",
    "    for file in files:\n",
    "      file_name = os.path.join(move_input_folder, file)\n",
    "      shutil.move(file_name, move_output_folder)\n",
    "    print(\"Files Moved\")\n"
   ]
  }
 ],
 "metadata": {
  "kernelspec": {
   "display_name": "Python 3.10.4 ('Nemo')",
   "language": "python",
   "name": "python3"
  },
  "language_info": {
   "codemirror_mode": {
    "name": "ipython",
    "version": 3
   },
   "file_extension": ".py",
   "mimetype": "text/x-python",
   "name": "python",
   "nbconvert_exporter": "python",
   "pygments_lexer": "ipython3",
   "version": "3.10.4"
  },
  "orig_nbformat": 4,
  "vscode": {
   "interpreter": {
    "hash": "27f0e5e1df9da351ef055c5ef3783a7898ea755580039e2618dc361c58d69156"
   }
  }
 },
 "nbformat": 4,
 "nbformat_minor": 2
}
