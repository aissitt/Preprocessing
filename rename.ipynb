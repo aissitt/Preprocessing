{
 "cells": [
  {
   "cell_type": "markdown",
   "metadata": {},
   "source": [
    "# Setup Paths"
   ]
  },
  {
   "cell_type": "code",
   "execution_count": null,
   "metadata": {},
   "outputs": [],
   "source": [
    "import os\n",
    "import shutil\n",
    "from pathlib import Path\n",
    "import xml.etree.ElementTree as ET"
   ]
  },
  {
   "cell_type": "code",
   "execution_count": null,
   "metadata": {},
   "outputs": [],
   "source": [
    "# path = \"Enter the path to the model directory: \"\n",
    "# dir_path = \"C:\\\\Users\\\\--\\\\Documents\\\\uot16\"\n",
    "dir_path = \"MODEL DIR PATH\"\n",
    "folder_holding_dataset = os.path.join(dir_path, \"preprocessing\", \"dataset\")\n",
    "count = 0"
   ]
  },
  {
   "cell_type": "markdown",
   "metadata": {},
   "source": [
    "# Remove Unnecessary Files & Move Files from Subfolders"
   ]
  },
  {
   "cell_type": "markdown",
   "metadata": {},
   "source": [
    "(don't run every time)"
   ]
  },
  {
   "cell_type": "code",
   "execution_count": null,
   "metadata": {},
   "outputs": [],
   "source": [
    "# gets the names of all subfolders under the dataset directory \n",
    "classes = [f.name for f in os.scandir(folder_holding_dataset) if f.is_dir()]\n",
    "\n",
    "for c in classes:\n",
    "  print(c) \n",
    "\n",
    "  move_output_folder = os.path.join(folder_holding_dataset, c)\n",
    "  move_input_folder = os.path.join(folder_holding_dataset, c, \"img\")\n",
    "  files = os.listdir(move_input_folder)\n",
    "\n",
    "# remove description & mp4 files\n",
    "  description_file = os.path.join(folder_holding_dataset, c, \"description.txt\")\n",
    "  mp4_file = os.path.join(folder_holding_dataset, c, c+\".mp4\")\n",
    "  os.remove(description_file)\n",
    "  os.remove(mp4_file)\n",
    "\n",
    "# move files from img folder to class folder\n",
    "  for file in files:\n",
    "    file_name = os.path.join(move_input_folder, file)\n",
    "    shutil.move(file_name, move_output_folder)\n",
    "  print(\"Files Moved\")\n",
    "\n",
    "  # move files from xml folder to class folder\n",
    "  move_output_folder = os.path.join(folder_holding_dataset, c)\n",
    "  move_input_folder = os.path.join(folder_holding_dataset, c, \"XML\")\n",
    "  files = os.listdir(move_input_folder)\n",
    "  for file in files:\n",
    "    file_name = os.path.join(move_input_folder, file)\n",
    "    shutil.move(file_name, move_output_folder)\n",
    "  print(\"Files Moved\")\n",
    "\n",
    "  # remove empty folders\n",
    "  remove_img_folder = os.path.join(folder_holding_dataset, c, \"img\")\n",
    "  remove_xml_folder = os.path.join(folder_holding_dataset, c, \"XML\")\n",
    "  remove_groundtruth = os.path.join(folder_holding_dataset, c, \"groundtruth_rect.txt\")\n",
    "  os.rmdir(remove_img_folder)\n",
    "  os.rmdir(remove_xml_folder)\n",
    "  os.remove(remove_groundtruth)"
   ]
  },
  {
   "cell_type": "markdown",
   "metadata": {},
   "source": [
    "# Rename Files"
   ]
  },
  {
   "cell_type": "code",
   "execution_count": null,
   "metadata": {},
   "outputs": [],
   "source": [
    "# gets the names of all subfolders under the dataset directory \n",
    "classes = [c.name for c in os.scandir(folder_holding_dataset) if c.is_dir()]\n",
    "\n",
    "for c in classes:\n",
    "  print(c) \n",
    "  \n",
    "  # get path of each class directory\n",
    "  class_folder = os.path.join(folder_holding_dataset, c)\n",
    "\n",
    "  # get file names from class directory\n",
    "  files = [f.name for f in os.scandir(class_folder) if f.is_file()]\n",
    "  \n",
    "  for f in files:\n",
    "    # get path of each file \n",
    "    file_path = os.path.join(class_folder, f)\n",
    "\n",
    "    # files are named as integers (ex. 1-800)\n",
    "    # gets integer \n",
    "    count=int(Path(file_path).stem)\n",
    "    print(count)\n",
    "\n",
    "    # gets image path\n",
    "    img_path = os.path.join(class_folder, str(count)+\".jpg\")\n",
    "    # gets annotation path\n",
    "    xml_path = os.path.join(class_folder, str(count)+\".xml\")\n",
    "\n",
    "    # if image and annotation are found\n",
    "    if os.path.exists(img_path or xml_path):\n",
    "        os.chdir(class_folder)\n",
    "\n",
    "        # sets new name to the class name plus the count\n",
    "        new_name= c+'_'+str(count)\n",
    "        \n",
    "        move_output_folder = folder_holding_dataset\n",
    "        move_input_file1 = new_name+\".jpg\"\n",
    "        move_input_file2 = new_name+\".xml\"\n",
    "\n",
    "        # rename\n",
    "        os.rename(img_path, new_name+\".jpg\")\n",
    "        os.chdir(class_folder)\n",
    "        os.rename(xml_path, new_name+\".xml\")\n",
    "        \n",
    "        \n",
    "        # write new filename to the xml\n",
    "        os.chdir(class_folder)\n",
    "        the_file = move_input_file2\n",
    "        tree = ET.parse(the_file)\n",
    "        root = tree.getroot()\n",
    "        for name in root.iter('filename'):\n",
    "          print(name.text)\n",
    "          name.text = move_input_file1\n",
    "          print(name.text)\n",
    "        tree.write(the_file)\n",
    "\n",
    "        # write new path to the xml\n",
    "        tree = ET.parse(the_file)\n",
    "        root = tree.getroot()\n",
    "        for path in root.iter('path'):\n",
    "          print(path.text)\n",
    "          new_path = os.path.join(dir_path, name.text)\n",
    "          path.text = new_path\n",
    "          print(path.text)\n",
    "        tree.write(the_file)\n",
    "        \n",
    "        \n",
    "        count+=1\n",
    "      \n",
    "    else:\n",
    "      count+=1"
   ]
  }
 ],
 "metadata": {
  "kernelspec": {
   "display_name": "Nemo",
   "language": "python",
   "name": "nemo"
  },
  "language_info": {
   "codemirror_mode": {
    "name": "ipython",
    "version": 3
   },
   "file_extension": ".py",
   "mimetype": "text/x-python",
   "name": "python",
   "nbconvert_exporter": "python",
   "pygments_lexer": "ipython3",
   "version": "3.10.4"
  },
  "orig_nbformat": 4,
  "vscode": {
   "interpreter": {
    "hash": "27f0e5e1df9da351ef055c5ef3783a7898ea755580039e2618dc361c58d69156"
   }
  }
 },
 "nbformat": 4,
 "nbformat_minor": 2
}
