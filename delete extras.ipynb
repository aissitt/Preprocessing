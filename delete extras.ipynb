{
 "cells": [
  {
   "cell_type": "code",
   "execution_count": null,
   "metadata": {},
   "outputs": [],
   "source": [
    "import os"
   ]
  },
  {
   "cell_type": "code",
   "execution_count": null,
   "metadata": {},
   "outputs": [],
   "source": [
    "# path = \"Enter the path to the model directory: \"\n",
    "# path = \"C:\\\\Users\\\\--\\\\Documents\\\\uot16\"\n",
    "path = \"MODEL DIR PATH\"\n",
    "folder_holding_dataset = os.path.join(path, \"uot16\", \"dataset\")\n",
    "counter = 0\n",
    "count = 0"
   ]
  },
  {
   "cell_type": "code",
   "execution_count": null,
   "metadata": {},
   "outputs": [],
   "source": [
    "# gets the names of all subfolders under the dataset directory \n",
    "classes = [f.name for f in os.scandir(folder_holding_dataset) if f.is_dir()]\n",
    "counter = 1\n",
    "for c in classes:\n",
    "  print(c) \n",
    "  count = 1\n",
    "  image_folder = os.path.join(folder_holding_dataset, c, \"img\")\n",
    "  images = [i.name for i in os.scandir(image_folder) if i.is_file()]\n",
    "  for i in images:\n",
    "    print(count)\n",
    "    img_path = os.path.join(folder_holding_dataset, c, \"img\", str(count)+\".jpg\")\n",
    "    xml_path = os.path.join(folder_holding_dataset, c, 'XML', str(count)+\".xml\")\n",
    "    if os.path.exists(img_path) & os.path.exists(xml_path):\n",
    "        count+=1\n",
    "    else:\n",
    "        os.remove(img_path)\n",
    "        print(\"Removing image\")\n",
    "        count+=1\n",
    "    \n"
   ]
  }
 ],
 "metadata": {
  "kernelspec": {
   "display_name": "Python 3.10.4 ('Nemo')",
   "language": "python",
   "name": "python3"
  },
  "language_info": {
   "codemirror_mode": {
    "name": "ipython",
    "version": 3
   },
   "file_extension": ".py",
   "mimetype": "text/x-python",
   "name": "python",
   "nbconvert_exporter": "python",
   "pygments_lexer": "ipython3",
   "version": "3.10.4"
  },
  "orig_nbformat": 4,
  "vscode": {
   "interpreter": {
    "hash": "27f0e5e1df9da351ef055c5ef3783a7898ea755580039e2618dc361c58d69156"
   }
  }
 },
 "nbformat": 4,
 "nbformat_minor": 2
}
