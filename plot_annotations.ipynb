{
 "cells": [
  {
   "cell_type": "markdown",
   "metadata": {},
   "source": [
    "# Setup Paths"
   ]
  },
  {
   "cell_type": "code",
   "execution_count": null,
   "metadata": {},
   "outputs": [],
   "source": [
    "import os\n",
    "from PIL import Image, ImageDraw\n",
    "import xml.etree.ElementTree as ET"
   ]
  },
  {
   "cell_type": "code",
   "execution_count": null,
   "metadata": {},
   "outputs": [],
   "source": [
    "# path = \"Enter the path to the model directory: \"\n",
    "# path = \"C:\\\\Users\\\\--\\\\Documents\\\\uot16\"\n",
    "path = \"MODEL DIR PATH\"\n",
    "image_dir = os.path.join(path,\"preprocessing\", \"dataset\", \"MantaRescue4\")\n",
    "annotation_dir = os.path.join(path,  \"preprocessing\", \"dataset\",\"MantaRescue4\")\n",
    "sample_image = os.path.join(path, \"preprocessing\", \"dataset\",\"MantaRescue4\",\"7.jpg\")\n",
    "sample_annotation = os.path.join(path, \"preprocessing\", \"dataset\",\"MantaRescue4\", \"7.xml\")"
   ]
  },
  {
   "cell_type": "markdown",
   "metadata": {},
   "source": [
    "# Open Image"
   ]
  },
  {
   "cell_type": "code",
   "execution_count": null,
   "metadata": {},
   "outputs": [],
   "source": [
    "sample_img = Image.open(sample_image)"
   ]
  },
  {
   "cell_type": "markdown",
   "metadata": {},
   "source": [
    "# Retrieve Annotations"
   ]
  },
  {
   "cell_type": "code",
   "execution_count": null,
   "metadata": {},
   "outputs": [],
   "source": [
    "tree = ET.parse(sample_annotation)\n",
    "root = tree.getroot()\n",
    "sample_annotations = []\n",
    "for neighbor in root.iter('bndbox'):\n",
    "    xmin = float(neighbor.find('xmin').text)\n",
    "    ymin = float(neighbor.find('ymin').text)\n",
    "    xmax = float(neighbor.find('xmax').text)\n",
    "    ymax = float(neighbor.find('ymax').text)\n",
    "\n",
    "    sample_annotations.append([xmin, ymin, xmax, ymax])\n",
    "print(sample_annotations)"
   ]
  },
  {
   "cell_type": "markdown",
   "metadata": {},
   "source": [
    "# Plot Annotated Image"
   ]
  },
  {
   "cell_type": "code",
   "execution_count": null,
   "metadata": {},
   "outputs": [],
   "source": [
    "annotated_sample = sample_img.copy()\n",
    "img_bbox = ImageDraw.Draw(annotated_sample)\n",
    "for bbox in sample_annotations:\n",
    "    print(bbox)\n",
    "    img_bbox.rectangle(bbox, outline= \"red\")\n",
    "annotated_sample"
   ]
  },
  {
   "cell_type": "markdown",
   "metadata": {},
   "source": [
    "# Plot Samples"
   ]
  },
  {
   "cell_type": "code",
   "execution_count": null,
   "metadata": {},
   "outputs": [],
   "source": [
    "import os\n",
    "from PIL import Image, ImageDraw\n",
    "import xml.etree.ElementTree as ET\n",
    "\n",
    "dir_path = \"DATASET DIR PATH\""
   ]
  },
  {
   "cell_type": "code",
   "execution_count": null,
   "metadata": {},
   "outputs": [],
   "source": [
    "# gets the names of all subfolders under the dataset directory \n",
    "classes = [f.name for f in os.scandir(dir_path) if f.is_dir()]\n",
    "\n",
    "for c in classes:\n",
    "  print(c) \n",
    "\n",
    "  class_dir = os.path.join(dir_path, c)\n",
    "  \n",
    "  image_dir1 = os.path.join(class_dir, \"220.jpg\")\n",
    "  annotation_dir1 = os.path.join(class_dir, \"220.xml\")\n",
    "\n",
    "  # image_dir2 = os.path.join(c, \"100.jpg\")\n",
    "  # annotation_dir2 = os.path.join(dir_path, \"100.xml\")\n",
    "\n",
    "  sample_img = Image.open(image_dir1)\n",
    "\n",
    "  tree = ET.parse(annotation_dir1)\n",
    "  root = tree.getroot()\n",
    "  sample_annotations = []\n",
    "  for neighbor in root.iter('bndbox'):\n",
    "      xmin = float(neighbor.find('xmin').text)\n",
    "      ymin = float(neighbor.find('ymin').text)\n",
    "      xmax = float(neighbor.find('xmax').text)\n",
    "      ymax = float(neighbor.find('ymax').text)\n",
    "\n",
    "      sample_annotations.append([xmin, ymin, xmax, ymax])\n",
    "  print(sample_annotations)\n",
    "\n",
    "  annotated_sample = sample_img.copy()\n",
    "  img_bbox = ImageDraw.Draw(annotated_sample)\n",
    "  for bbox in sample_annotations:\n",
    "      print(bbox)\n",
    "      img_bbox.rectangle(bbox, outline= \"red\")\n",
    "  display(annotated_sample)\n",
    "\n",
    "  "
   ]
  }
 ],
 "metadata": {
  "kernelspec": {
   "display_name": "Nemo",
   "language": "python",
   "name": "nemo"
  },
  "language_info": {
   "codemirror_mode": {
    "name": "ipython",
    "version": 3
   },
   "file_extension": ".py",
   "mimetype": "text/x-python",
   "name": "python",
   "nbconvert_exporter": "python",
   "pygments_lexer": "ipython3",
   "version": "3.10.4"
  },
  "orig_nbformat": 4
 },
 "nbformat": 4,
 "nbformat_minor": 2
}
